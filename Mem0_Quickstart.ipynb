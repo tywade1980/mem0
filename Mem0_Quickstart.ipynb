{
  "nbformat": 4,
  "nbformat_minor": 0,
  "metadata": {
    "colab": {
      "provenance": [],
      "include_colab_link": true
    },
    "kernelspec": {
      "name": "python3",
      "display_name": "Python 3"
    },
    "language_info": {
      "name": "python"
    }
  },
  "cells": [
    {
      "cell_type": "markdown",
      "metadata": {
        "id": "view-in-github",
        "colab_type": "text"
      },
      "source": [
        "<a href=\"https://colab.research.google.com/github/tywade1980/mem0/blob/main/Mem0_Quickstart.ipynb\" target=\"_parent\"><img src=\"https://colab.research.google.com/assets/colab-badge.svg\" alt=\"Open In Colab\"/></a>"
      ]
    },
    {
      "cell_type": "markdown",
      "source": [
        "# Welcome to Mem0! 🚀\n",
        "\n",
        "This notebook will guide you through your first API calls with Mem0, the easiest way to give your AI agents real, personalized memory.\n",
        "\n",
        "\n",
        "\n",
        "Let's get you started in 2 simple steps\n",
        "\n",
        "*   Paste your API key\n",
        "*   Click 'Run All' Button shown above"
      ],
      "metadata": {
        "id": "toD7bwk9HNWJ"
      }
    },
    {
      "cell_type": "code",
      "source": [
        "# You can find your key on the dashboard.\n",
        "API_KEY = \"m0-xxxx\"\n",
        "\n",
        "# Note: This key is sensitive. Do not share this notebook with it filled out."
      ],
      "metadata": {
        "id": "cYPiFiuCa5jS"
      },
      "execution_count": null,
      "outputs": []
    },
    {
      "cell_type": "code",
      "source": [
        "# Install the mem0 Python SDK\n",
        "# This is the only setup you'll need!\n",
        "\n",
        "!pip install mem0ai > /dev/null 2>&1"
      ],
      "metadata": {
        "id": "wNmd3EEI8Az0"
      },
      "execution_count": null,
      "outputs": []
    },
    {
      "cell_type": "code",
      "source": [
        "# 🔌 Connect to Mem0 in just one line of code\n",
        "\n",
        "from mem0 import MemoryClient\n",
        "\n",
        "client = MemoryClient(api_key=API_KEY)"
      ],
      "metadata": {
        "id": "9RmOk4Un8Cje"
      },
      "execution_count": null,
      "outputs": []
    },
    {
      "cell_type": "markdown",
      "source": [
        "## This is the core of Mem0.\n",
        "\n",
        "Let's **add some context** from a customer support conversation. This context can be a user's question, a chat message, or any piece of information you want your AI agent to remember.\n",
        "\n",
        "*Notice how we're simply passing in a message. Mem0 automatically extracts and stores the relevant memories.*"
      ],
      "metadata": {
        "id": "eL4q87P9H39s"
      }
    },
    {
      "cell_type": "code",
      "source": [
        "# Define a user ID and a message from that user\n",
        "user_id = \"customer-001\"\n",
        "\n",
        "message_from_user_1 = \"My order #1234 was for a 'Nova 2000', but it arrived damaged. It was a gift for my sister.\"\n",
        "\n",
        "messages = [\n",
        "    {\"role\": \"user\", \"content\": message_from_user_1}\n",
        "]\n",
        "\n",
        "client.add(messages, user_id=user_id, version=\"v2\", output_format=\"v1.1\")"
      ],
      "metadata": {
        "id": "nFTEqBiP8dpD"
      },
      "execution_count": null,
      "outputs": []
    },
    {
      "cell_type": "markdown",
      "source": [
        "The `add` call's response confirms that the memory was stored.\n",
        "\n",
        "For immediate visual confirmation, let's make a call to ***fetch all*** memories associated with this user ID."
      ],
      "metadata": {
        "id": "O5mKdBIOISrt"
      }
    },
    {
      "cell_type": "markdown",
      "source": [],
      "metadata": {
        "id": "nHA7txa5elfW"
      }
    },
    {
      "cell_type": "code",
      "source": [
        "# Fetch all memories for the user_id\n",
        "user_memories = client.get_all(user_id=user_id)\n",
        "\n",
        "print(user_memories)"
      ],
      "metadata": {
        "id": "loKUTExVIa2g"
      },
      "execution_count": null,
      "outputs": []
    },
    {
      "cell_type": "markdown",
      "source": [
        "Now, let's pretend the same user is talking to your AI agent again.\n",
        "\n",
        "The agent needs to retrieve relevant context to give a personalized response.\n",
        "\n",
        "Instead of sending the entire conversation, you just send the new message and ask Mem0 to retrieve the relevant memories."
      ],
      "metadata": {
        "id": "1bkQ9nIBIqFa"
      }
    },
    {
      "cell_type": "code",
      "source": [
        "# The user sends a new message to the chatbot\n",
        "new_message = \"What's the status on the replacement?\"\n",
        "\n",
        "filters = {\n",
        "   \"OR\":[\n",
        "      {\n",
        "         \"user_id\": user_id\n",
        "      }\n",
        "   ]\n",
        "}\n",
        "\n",
        "# Search for memories related to the user's new message\n",
        "search_memory_response = client.search(query=new_message, filters=filters, version=\"v2\", output_format=\"v1.1\")\n",
        "\n",
        "# Print the memories found by Mem0\n",
        "print(search_memory_response)"
      ],
      "metadata": {
        "id": "5PyMBQkA8oah"
      },
      "execution_count": null,
      "outputs": []
    },
    {
      "cell_type": "markdown",
      "source": [
        "## **🎉 Look at that!**\n",
        "\n",
        "Based on the new message \"What's the status on the replacement?\", Mem0's search function returned the relevant memories from the previous conversation: \"order #1234,\" \"Nova 2000,\" and \"arrived damaged.\"\n",
        "\n",
        "\n",
        "Now, your AI agent can use these specific memories to provide a personalized, context-aware response without wasting tokens on the full conversation history. This is the power of Mem0!"
      ],
      "metadata": {
        "id": "EPG7pEWZJGUt"
      }
    },
    {
      "cell_type": "markdown",
      "source": [
        "## **Bonus**\n",
        "\n",
        "This is a bonus cell to show one of Mem0's advanced capabilities: using **custom instructions**.\n",
        "\n",
        "You can give Mem0 specific instructions on how to process and extract memories."
      ],
      "metadata": {
        "id": "cndeCN02JLGX"
      }
    },
    {
      "cell_type": "code",
      "source": [
        "# Let's add another memory, this time with a custom instruction\n",
        "message_from_user_2 = \"I'm also a premium member of your rewards program.\"\n",
        "custom_instruction = \"Identify and extract the user's loyalty program tier.\"\n",
        "\n",
        "messages = [\n",
        "    {\"role\": \"user\", \"content\": message_from_user_2}\n",
        "]\n",
        "\n",
        "# Add this memory using the custom instruction\n",
        "advanced_memory_response = client.add(messages, user_id=user_id, custom_instructions=custom_instruction, version=\"v2\")\n",
        "\n",
        "print(advanced_memory_response)"
      ],
      "metadata": {
        "id": "HhbNrehZJR0J"
      },
      "execution_count": null,
      "outputs": []
    },
    {
      "cell_type": "markdown",
      "source": [
        "## **Congratulations, you've completed your first Mem0 quickstart!**\n",
        "\n",
        "You've successfully installed the SDK, initialized the client, added a memory, confirmed it was stored, and retrieved it.\n",
        "You now have a working understanding of how Mem0 can make your AI agents smarter and more efficient.\n",
        "\n",
        "**Next Steps:**\n",
        "\n",
        "Head back to your [Mem0 Dashboard](https://app.mem0.ai/) to view your API usage.\n",
        "\n",
        "Read our [Full API Documentation](https://docs.mem0.ai/) to learn about all available endpoints and parameters.\n",
        "\n",
        "Integrate Mem0 into your own project using our [SDKs](https://docs.mem0.ai/quickstart#mem0-platform-managed-solution) for Python, Node.js, and more."
      ],
      "metadata": {
        "id": "wmA7-NOtKq14"
      }
    }
  ]
}